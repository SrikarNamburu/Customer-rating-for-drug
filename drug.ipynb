{
 "cells": [
  {
   "cell_type": "markdown",
   "metadata": {},
   "source": [
    "#  Predicting drug rating using LSTM Network in Keras"
   ]
  },
  {
   "cell_type": "code",
   "execution_count": 1,
   "metadata": {},
   "outputs": [
    {
     "name": "stderr",
     "output_type": "stream",
     "text": [
      "Using TensorFlow backend.\n",
      "/usr/lib64/python2.7/site-packages/cffi/model.py:532: UserWarning: 'point_conversion_form_t' has no values explicitly defined; guessing that it is equivalent to 'unsigned int'\n",
      "  % self._get_c_name())\n"
     ]
    }
   ],
   "source": [
    "import os\n",
    "import sys\n",
    "import numpy as np\n",
    "import pandas as pd\n",
    "from keras.preprocessing.text import Tokenizer\n",
    "from keras.preprocessing.sequence import pad_sequences\n",
    "from keras.utils import to_categorical\n",
    "from keras.models import Model                  # for one-hot encoding of the labels\n",
    "from keras.layers import Dense, Input, Flatten, Dropout, BatchNormalization\n",
    "from keras.layers import Conv1D, MaxPooling1D, GlobalMaxPool1D, Embedding\n",
    "from keras.models import Sequential\n",
    "from keras.layers import SimpleRNN, GRU, LSTM # Import layers from Keras"
   ]
  },
  {
   "cell_type": "markdown",
   "metadata": {},
   "source": [
    "### Reading the data"
   ]
  },
  {
   "cell_type": "code",
   "execution_count": 2,
   "metadata": {},
   "outputs": [],
   "source": [
    "raw_train = pd.read_csv(\"traindata.csv\", index_col =0)"
   ]
  },
  {
   "cell_type": "code",
   "execution_count": 3,
   "metadata": {},
   "outputs": [
    {
     "data": {
      "text/plain": [
       "lexapro                       63\n",
       "prozac                        46\n",
       "zoloft                        45\n",
       "retin-a                       45\n",
       "synthroid                     38\n",
       "paxil                         38\n",
       "propecia                      38\n",
       "effexor                       33\n",
       "cymbalta                      33\n",
       "doxycycline                   33\n",
       "chantix                       32\n",
       "wellbutrin                    32\n",
       "neurontin                     31\n",
       "ambien                        30\n",
       "lamictal                      29\n",
       "lipitor                       29\n",
       "effexor-xr                    29\n",
       "accutane                      28\n",
       "imitrex                       27\n",
       "renova                        27\n",
       "nexium                        27\n",
       "adipex-p                      25\n",
       "topamax                       25\n",
       "flonase                       25\n",
       "differin                      25\n",
       "vyvanse                       24\n",
       "seroquel                      23\n",
       "retin-a-micro                 23\n",
       "zyrtec                        23\n",
       "xanax                         23\n",
       "                              ..\n",
       "ziac                           1\n",
       "arimidex                       1\n",
       "erythra-derm                   1\n",
       "norpramin                      1\n",
       "buprenorphine                  1\n",
       "tambocor                       1\n",
       "saizen                         1\n",
       "mercaptopurine                 1\n",
       "lotronex                       1\n",
       "metformin-extended-release     1\n",
       "proair-hfa                     1\n",
       "nardil                         1\n",
       "warfarin                       1\n",
       "betaseron                      1\n",
       "arthrotec                      1\n",
       "clobetasol                     1\n",
       "clindamycin-topical            1\n",
       "penlac                         1\n",
       "xalatan                        1\n",
       "meperidine                     1\n",
       "rhinocort                      1\n",
       "lidex                          1\n",
       "phenergan                      1\n",
       "asmanex                        1\n",
       "pamelor                        1\n",
       "lybrel                         1\n",
       "bisoprolol                     1\n",
       "azopt                          1\n",
       "geodon                         1\n",
       "atripla                        1\n",
       "Name: Name, Length: 502, dtype: int64"
      ]
     },
     "execution_count": 3,
     "metadata": {},
     "output_type": "execute_result"
    }
   ],
   "source": [
    "raw_train[\"Name\"].value_counts()"
   ]
  },
  {
   "cell_type": "code",
   "execution_count": 4,
   "metadata": {},
   "outputs": [],
   "source": [
    "raw_test = pd.read_csv(\"testdata.csv\", index_col =0)"
   ]
  },
  {
   "cell_type": "code",
   "execution_count": 5,
   "metadata": {},
   "outputs": [
    {
     "data": {
      "text/plain": [
       "paxil                   20\n",
       "effexor-xr              17\n",
       "accutane                16\n",
       "synthroid               15\n",
       "effexor                 13\n",
       "differin                13\n",
       "lipitor                 13\n",
       "chantix                 12\n",
       "wellbutrin-xl           12\n",
       "citalopram              12\n",
       "tazorac                 11\n",
       "mobic                   11\n",
       "lexapro                 11\n",
       "wellbutrin              10\n",
       "nexium                  10\n",
       "lamictal                10\n",
       "celexa                  10\n",
       "topamax                 10\n",
       "retin-a                 10\n",
       "trazodone               10\n",
       "zyrtec                   9\n",
       "yasmin                   9\n",
       "fosamax                  9\n",
       "seroquel                 9\n",
       "prinivil                 9\n",
       "adderall                 9\n",
       "provigil                 9\n",
       "lyrica                   9\n",
       "amoxil                   8\n",
       "prednisone               8\n",
       "                        ..\n",
       "naltrexone               1\n",
       "trental                  1\n",
       "glyquin-xm               1\n",
       "zegerid                  1\n",
       "depakene                 1\n",
       "capoten                  1\n",
       "hyzaar                   1\n",
       "reglan                   1\n",
       "tylenol                  1\n",
       "acanya                   1\n",
       "tylenol-with-codeine     1\n",
       "dicyclomine              1\n",
       "geodon                   1\n",
       "cleocin                  1\n",
       "lybrel                   1\n",
       "bentyl                   1\n",
       "triazolam                1\n",
       "voltaren                 1\n",
       "vagifem                  1\n",
       "zantac                   1\n",
       "azulfidine               1\n",
       "phenergan                1\n",
       "skelaxin                 1\n",
       "pataday                  1\n",
       "mevacor                  1\n",
       "piroxicam                1\n",
       "zetia                    1\n",
       "arava                    1\n",
       "serzone                  1\n",
       "biaxin-xl                1\n",
       "Name: Name, Length: 314, dtype: int64"
      ]
     },
     "execution_count": 5,
     "metadata": {},
     "output_type": "execute_result"
    }
   ],
   "source": [
    "raw_test.Name.value_counts()"
   ]
  },
  {
   "cell_type": "code",
   "execution_count": 6,
   "metadata": {},
   "outputs": [
    {
     "data": {
      "text/html": [
       "<div>\n",
       "<style scoped>\n",
       "    .dataframe tbody tr th:only-of-type {\n",
       "        vertical-align: middle;\n",
       "    }\n",
       "\n",
       "    .dataframe tbody tr th {\n",
       "        vertical-align: top;\n",
       "    }\n",
       "\n",
       "    .dataframe thead th {\n",
       "        text-align: right;\n",
       "    }\n",
       "</style>\n",
       "<table border=\"1\" class=\"dataframe\">\n",
       "  <thead>\n",
       "    <tr style=\"text-align: right;\">\n",
       "      <th></th>\n",
       "      <th>Name</th>\n",
       "      <th>effectiveness</th>\n",
       "      <th>sideEffects</th>\n",
       "      <th>condition</th>\n",
       "      <th>benefitsReview</th>\n",
       "      <th>sideEffectsReview</th>\n",
       "      <th>commentsReview</th>\n",
       "      <th>rating</th>\n",
       "    </tr>\n",
       "  </thead>\n",
       "  <tbody>\n",
       "    <tr>\n",
       "      <th>0</th>\n",
       "      <td>enalapril</td>\n",
       "      <td>Highly Effective</td>\n",
       "      <td>Mild Side Effects</td>\n",
       "      <td>management of congestive heart failure</td>\n",
       "      <td>slowed the progression of left ventricular dys...</td>\n",
       "      <td>cough, hypotension , proteinuria, impotence , ...</td>\n",
       "      <td>monitor blood pressure , weight and asses for ...</td>\n",
       "      <td>low</td>\n",
       "    </tr>\n",
       "    <tr>\n",
       "      <th>1</th>\n",
       "      <td>ortho-tri-cyclen</td>\n",
       "      <td>Highly Effective</td>\n",
       "      <td>Severe Side Effects</td>\n",
       "      <td>birth prevention</td>\n",
       "      <td>Although this type of birth control has more c...</td>\n",
       "      <td>Heavy Cycle, Cramps, Hot Flashes, Fatigue, Lon...</td>\n",
       "      <td>I Hate This Birth Control, I Would Not Suggest...</td>\n",
       "      <td>low</td>\n",
       "    </tr>\n",
       "    <tr>\n",
       "      <th>2</th>\n",
       "      <td>ponstel</td>\n",
       "      <td>Highly Effective</td>\n",
       "      <td>No Side Effects</td>\n",
       "      <td>menstrual cramps</td>\n",
       "      <td>I was used to having cramps so badly that they...</td>\n",
       "      <td>Heavier bleeding and clotting than normal.</td>\n",
       "      <td>I took 2 pills at the onset of my menstrual cr...</td>\n",
       "      <td>high</td>\n",
       "    </tr>\n",
       "    <tr>\n",
       "      <th>3</th>\n",
       "      <td>prilosec</td>\n",
       "      <td>Marginally Effective</td>\n",
       "      <td>Mild Side Effects</td>\n",
       "      <td>acid reflux</td>\n",
       "      <td>The acid reflux went away for a few months aft...</td>\n",
       "      <td>Constipation, dry mouth and some mild dizzines...</td>\n",
       "      <td>I was given Prilosec prescription at a dose of...</td>\n",
       "      <td>low</td>\n",
       "    </tr>\n",
       "    <tr>\n",
       "      <th>4</th>\n",
       "      <td>lyrica</td>\n",
       "      <td>Marginally Effective</td>\n",
       "      <td>Severe Side Effects</td>\n",
       "      <td>fibromyalgia</td>\n",
       "      <td>I think that the Lyrica was starting to help w...</td>\n",
       "      <td>I felt extremely drugged and dopey.  Could not...</td>\n",
       "      <td>See above</td>\n",
       "      <td>low</td>\n",
       "    </tr>\n",
       "  </tbody>\n",
       "</table>\n",
       "</div>"
      ],
      "text/plain": [
       "               Name         effectiveness          sideEffects  \\\n",
       "0         enalapril      Highly Effective    Mild Side Effects   \n",
       "1  ortho-tri-cyclen      Highly Effective  Severe Side Effects   \n",
       "2           ponstel      Highly Effective      No Side Effects   \n",
       "3          prilosec  Marginally Effective    Mild Side Effects   \n",
       "4            lyrica  Marginally Effective  Severe Side Effects   \n",
       "\n",
       "                                condition  \\\n",
       "0  management of congestive heart failure   \n",
       "1                        birth prevention   \n",
       "2                        menstrual cramps   \n",
       "3                             acid reflux   \n",
       "4                            fibromyalgia   \n",
       "\n",
       "                                      benefitsReview  \\\n",
       "0  slowed the progression of left ventricular dys...   \n",
       "1  Although this type of birth control has more c...   \n",
       "2  I was used to having cramps so badly that they...   \n",
       "3  The acid reflux went away for a few months aft...   \n",
       "4  I think that the Lyrica was starting to help w...   \n",
       "\n",
       "                                   sideEffectsReview  \\\n",
       "0  cough, hypotension , proteinuria, impotence , ...   \n",
       "1  Heavy Cycle, Cramps, Hot Flashes, Fatigue, Lon...   \n",
       "2         Heavier bleeding and clotting than normal.   \n",
       "3  Constipation, dry mouth and some mild dizzines...   \n",
       "4  I felt extremely drugged and dopey.  Could not...   \n",
       "\n",
       "                                      commentsReview rating  \n",
       "0  monitor blood pressure , weight and asses for ...    low  \n",
       "1  I Hate This Birth Control, I Would Not Suggest...    low  \n",
       "2  I took 2 pills at the onset of my menstrual cr...   high  \n",
       "3  I was given Prilosec prescription at a dose of...    low  \n",
       "4                                          See above    low  "
      ]
     },
     "execution_count": 6,
     "metadata": {},
     "output_type": "execute_result"
    }
   ],
   "source": [
    "raw_train.head()"
   ]
  },
  {
   "cell_type": "code",
   "execution_count": 7,
   "metadata": {},
   "outputs": [
    {
     "data": {
      "text/html": [
       "<div>\n",
       "<style scoped>\n",
       "    .dataframe tbody tr th:only-of-type {\n",
       "        vertical-align: middle;\n",
       "    }\n",
       "\n",
       "    .dataframe tbody tr th {\n",
       "        vertical-align: top;\n",
       "    }\n",
       "\n",
       "    .dataframe thead th {\n",
       "        text-align: right;\n",
       "    }\n",
       "</style>\n",
       "<table border=\"1\" class=\"dataframe\">\n",
       "  <thead>\n",
       "    <tr style=\"text-align: right;\">\n",
       "      <th></th>\n",
       "      <th>Name</th>\n",
       "      <th>effectiveness</th>\n",
       "      <th>sideEffects</th>\n",
       "      <th>condition</th>\n",
       "      <th>benefitsReview</th>\n",
       "      <th>sideEffectsReview</th>\n",
       "      <th>commentsReview</th>\n",
       "      <th>Rating</th>\n",
       "    </tr>\n",
       "  </thead>\n",
       "  <tbody>\n",
       "    <tr>\n",
       "      <th>0</th>\n",
       "      <td>biaxin</td>\n",
       "      <td>Considerably Effective</td>\n",
       "      <td>Mild Side Effects</td>\n",
       "      <td>sinus infection</td>\n",
       "      <td>The antibiotic may have destroyed bacteria cau...</td>\n",
       "      <td>Some back pain, some nauseau.</td>\n",
       "      <td>Took the antibiotics for 14 days. Sinus infect...</td>\n",
       "      <td>high</td>\n",
       "    </tr>\n",
       "    <tr>\n",
       "      <th>1</th>\n",
       "      <td>lamictal</td>\n",
       "      <td>Highly Effective</td>\n",
       "      <td>Mild Side Effects</td>\n",
       "      <td>bipolar disorder</td>\n",
       "      <td>Lamictal stabilized my serious mood swings. On...</td>\n",
       "      <td>Drowsiness, a bit of mental numbness. If you t...</td>\n",
       "      <td>Severe mood swings between hypomania and depre...</td>\n",
       "      <td>high</td>\n",
       "    </tr>\n",
       "    <tr>\n",
       "      <th>2</th>\n",
       "      <td>depakene</td>\n",
       "      <td>Moderately Effective</td>\n",
       "      <td>Severe Side Effects</td>\n",
       "      <td>bipolar disorder</td>\n",
       "      <td>Initial benefits were comparable to the brand ...</td>\n",
       "      <td>Depakene has a very thin coating, which caused...</td>\n",
       "      <td>Depakote was prescribed to me by a Kaiser psyc...</td>\n",
       "      <td>low</td>\n",
       "    </tr>\n",
       "    <tr>\n",
       "      <th>3</th>\n",
       "      <td>sarafem</td>\n",
       "      <td>Highly Effective</td>\n",
       "      <td>No Side Effects</td>\n",
       "      <td>bi-polar / anxiety</td>\n",
       "      <td>It controlls my mood swings. It helps me think...</td>\n",
       "      <td>I didnt really notice any side effects.</td>\n",
       "      <td>This drug may not be for everyone but its wond...</td>\n",
       "      <td>high</td>\n",
       "    </tr>\n",
       "    <tr>\n",
       "      <th>4</th>\n",
       "      <td>accutane</td>\n",
       "      <td>Highly Effective</td>\n",
       "      <td>Mild Side Effects</td>\n",
       "      <td>nodular acne</td>\n",
       "      <td>Within one week of treatment superficial acne ...</td>\n",
       "      <td>Side effects included moderate to severe dry s...</td>\n",
       "      <td>Drug was taken in gelatin tablet at 0.5 mg per...</td>\n",
       "      <td>high</td>\n",
       "    </tr>\n",
       "  </tbody>\n",
       "</table>\n",
       "</div>"
      ],
      "text/plain": [
       "       Name           effectiveness          sideEffects           condition  \\\n",
       "0    biaxin  Considerably Effective    Mild Side Effects     sinus infection   \n",
       "1  lamictal        Highly Effective    Mild Side Effects    bipolar disorder   \n",
       "2  depakene    Moderately Effective  Severe Side Effects    bipolar disorder   \n",
       "3   sarafem        Highly Effective      No Side Effects  bi-polar / anxiety   \n",
       "4  accutane        Highly Effective    Mild Side Effects        nodular acne   \n",
       "\n",
       "                                      benefitsReview  \\\n",
       "0  The antibiotic may have destroyed bacteria cau...   \n",
       "1  Lamictal stabilized my serious mood swings. On...   \n",
       "2  Initial benefits were comparable to the brand ...   \n",
       "3  It controlls my mood swings. It helps me think...   \n",
       "4  Within one week of treatment superficial acne ...   \n",
       "\n",
       "                                   sideEffectsReview  \\\n",
       "0                      Some back pain, some nauseau.   \n",
       "1  Drowsiness, a bit of mental numbness. If you t...   \n",
       "2  Depakene has a very thin coating, which caused...   \n",
       "3            I didnt really notice any side effects.   \n",
       "4  Side effects included moderate to severe dry s...   \n",
       "\n",
       "                                      commentsReview Rating  \n",
       "0  Took the antibiotics for 14 days. Sinus infect...   high  \n",
       "1  Severe mood swings between hypomania and depre...   high  \n",
       "2  Depakote was prescribed to me by a Kaiser psyc...    low  \n",
       "3  This drug may not be for everyone but its wond...   high  \n",
       "4  Drug was taken in gelatin tablet at 0.5 mg per...   high  "
      ]
     },
     "execution_count": 7,
     "metadata": {},
     "output_type": "execute_result"
    }
   ],
   "source": [
    "raw_test.head()"
   ]
  },
  {
   "cell_type": "code",
   "execution_count": 8,
   "metadata": {},
   "outputs": [
    {
     "data": {
      "text/plain": [
       "(3107, 8)"
      ]
     },
     "execution_count": 8,
     "metadata": {},
     "output_type": "execute_result"
    }
   ],
   "source": [
    "raw_train.shape"
   ]
  },
  {
   "cell_type": "code",
   "execution_count": 9,
   "metadata": {},
   "outputs": [
    {
     "name": "stdout",
     "output_type": "stream",
     "text": [
      "high      1780\n",
      "medium     666\n",
      "low        661\n",
      "Name: rating, dtype: int64\n"
     ]
    }
   ],
   "source": [
    "print(raw_train['rating'].value_counts())"
   ]
  },
  {
   "cell_type": "code",
   "execution_count": 10,
   "metadata": {},
   "outputs": [
    {
     "name": "stdout",
     "output_type": "stream",
     "text": [
      "high      549\n",
      "medium    246\n",
      "low       241\n",
      "Name: Rating, dtype: int64\n"
     ]
    }
   ],
   "source": [
    "print(raw_test['Rating'].value_counts())"
   ]
  },
  {
   "cell_type": "code",
   "execution_count": 11,
   "metadata": {},
   "outputs": [
    {
     "data": {
      "text/plain": [
       "Name                 0\n",
       "effectiveness        0\n",
       "sideEffects          0\n",
       "condition            1\n",
       "benefitsReview       0\n",
       "sideEffectsReview    2\n",
       "commentsReview       8\n",
       "rating               0\n",
       "dtype: int64"
      ]
     },
     "execution_count": 11,
     "metadata": {},
     "output_type": "execute_result"
    }
   ],
   "source": [
    "raw_train.isnull().sum()"
   ]
  },
  {
   "cell_type": "code",
   "execution_count": 12,
   "metadata": {},
   "outputs": [],
   "source": [
    "raw_train = raw_train.dropna()"
   ]
  },
  {
   "cell_type": "code",
   "execution_count": 13,
   "metadata": {},
   "outputs": [],
   "source": [
    "raw_train = raw_train.reset_index(drop =True)\n"
   ]
  },
  {
   "cell_type": "code",
   "execution_count": 14,
   "metadata": {},
   "outputs": [
    {
     "data": {
      "text/plain": [
       "(3096, 8)"
      ]
     },
     "execution_count": 14,
     "metadata": {},
     "output_type": "execute_result"
    }
   ],
   "source": [
    "raw_train.shape"
   ]
  },
  {
   "cell_type": "code",
   "execution_count": 15,
   "metadata": {},
   "outputs": [
    {
     "data": {
      "text/plain": [
       "Name                 0\n",
       "effectiveness        0\n",
       "sideEffects          0\n",
       "condition            0\n",
       "benefitsReview       0\n",
       "sideEffectsReview    0\n",
       "commentsReview       0\n",
       "Rating               0\n",
       "dtype: int64"
      ]
     },
     "execution_count": 15,
     "metadata": {},
     "output_type": "execute_result"
    }
   ],
   "source": [
    "raw_test.isnull().sum()"
   ]
  },
  {
   "cell_type": "code",
   "execution_count": 16,
   "metadata": {},
   "outputs": [],
   "source": [
    "raw_train[\"final\"] = raw_train[\"effectiveness\"]+\" \"+raw_train[\"sideEffects\"]+\" \"+raw_train[\"condition\"]+\" \"+ raw_train[\"benefitsReview\"]+\" \"+raw_train[\"sideEffectsReview\"]+\" \"+raw_train[\"commentsReview\"]+\" \"+ raw_train[\"Name\"]\n",
    "raw_test[\"final\"] = raw_test[\"effectiveness\"]+\" \"+raw_test[\"sideEffects\"]+\" \"+raw_test[\"condition\"]+\" \"+ raw_test[\"benefitsReview\"]+\" \"+raw_test[\"sideEffectsReview\"]+\" \"+raw_test[\"commentsReview\"]+\" \"+ raw_test[\"Name\"]"
   ]
  },
  {
   "cell_type": "code",
   "execution_count": 17,
   "metadata": {},
   "outputs": [
    {
     "data": {
      "text/html": [
       "<div>\n",
       "<style scoped>\n",
       "    .dataframe tbody tr th:only-of-type {\n",
       "        vertical-align: middle;\n",
       "    }\n",
       "\n",
       "    .dataframe tbody tr th {\n",
       "        vertical-align: top;\n",
       "    }\n",
       "\n",
       "    .dataframe thead th {\n",
       "        text-align: right;\n",
       "    }\n",
       "</style>\n",
       "<table border=\"1\" class=\"dataframe\">\n",
       "  <thead>\n",
       "    <tr style=\"text-align: right;\">\n",
       "      <th></th>\n",
       "      <th>Name</th>\n",
       "      <th>effectiveness</th>\n",
       "      <th>sideEffects</th>\n",
       "      <th>condition</th>\n",
       "      <th>benefitsReview</th>\n",
       "      <th>sideEffectsReview</th>\n",
       "      <th>commentsReview</th>\n",
       "      <th>rating</th>\n",
       "      <th>final</th>\n",
       "    </tr>\n",
       "  </thead>\n",
       "  <tbody>\n",
       "    <tr>\n",
       "      <th>0</th>\n",
       "      <td>enalapril</td>\n",
       "      <td>Highly Effective</td>\n",
       "      <td>Mild Side Effects</td>\n",
       "      <td>management of congestive heart failure</td>\n",
       "      <td>slowed the progression of left ventricular dys...</td>\n",
       "      <td>cough, hypotension , proteinuria, impotence , ...</td>\n",
       "      <td>monitor blood pressure , weight and asses for ...</td>\n",
       "      <td>low</td>\n",
       "      <td>Highly Effective Mild Side Effects management ...</td>\n",
       "    </tr>\n",
       "    <tr>\n",
       "      <th>1</th>\n",
       "      <td>ortho-tri-cyclen</td>\n",
       "      <td>Highly Effective</td>\n",
       "      <td>Severe Side Effects</td>\n",
       "      <td>birth prevention</td>\n",
       "      <td>Although this type of birth control has more c...</td>\n",
       "      <td>Heavy Cycle, Cramps, Hot Flashes, Fatigue, Lon...</td>\n",
       "      <td>I Hate This Birth Control, I Would Not Suggest...</td>\n",
       "      <td>low</td>\n",
       "      <td>Highly Effective Severe Side Effects birth pre...</td>\n",
       "    </tr>\n",
       "    <tr>\n",
       "      <th>2</th>\n",
       "      <td>ponstel</td>\n",
       "      <td>Highly Effective</td>\n",
       "      <td>No Side Effects</td>\n",
       "      <td>menstrual cramps</td>\n",
       "      <td>I was used to having cramps so badly that they...</td>\n",
       "      <td>Heavier bleeding and clotting than normal.</td>\n",
       "      <td>I took 2 pills at the onset of my menstrual cr...</td>\n",
       "      <td>high</td>\n",
       "      <td>Highly Effective No Side Effects menstrual cra...</td>\n",
       "    </tr>\n",
       "    <tr>\n",
       "      <th>3</th>\n",
       "      <td>prilosec</td>\n",
       "      <td>Marginally Effective</td>\n",
       "      <td>Mild Side Effects</td>\n",
       "      <td>acid reflux</td>\n",
       "      <td>The acid reflux went away for a few months aft...</td>\n",
       "      <td>Constipation, dry mouth and some mild dizzines...</td>\n",
       "      <td>I was given Prilosec prescription at a dose of...</td>\n",
       "      <td>low</td>\n",
       "      <td>Marginally Effective Mild Side Effects acid re...</td>\n",
       "    </tr>\n",
       "    <tr>\n",
       "      <th>4</th>\n",
       "      <td>lyrica</td>\n",
       "      <td>Marginally Effective</td>\n",
       "      <td>Severe Side Effects</td>\n",
       "      <td>fibromyalgia</td>\n",
       "      <td>I think that the Lyrica was starting to help w...</td>\n",
       "      <td>I felt extremely drugged and dopey.  Could not...</td>\n",
       "      <td>See above</td>\n",
       "      <td>low</td>\n",
       "      <td>Marginally Effective Severe Side Effects fibro...</td>\n",
       "    </tr>\n",
       "  </tbody>\n",
       "</table>\n",
       "</div>"
      ],
      "text/plain": [
       "               Name         effectiveness          sideEffects  \\\n",
       "0         enalapril      Highly Effective    Mild Side Effects   \n",
       "1  ortho-tri-cyclen      Highly Effective  Severe Side Effects   \n",
       "2           ponstel      Highly Effective      No Side Effects   \n",
       "3          prilosec  Marginally Effective    Mild Side Effects   \n",
       "4            lyrica  Marginally Effective  Severe Side Effects   \n",
       "\n",
       "                                condition  \\\n",
       "0  management of congestive heart failure   \n",
       "1                        birth prevention   \n",
       "2                        menstrual cramps   \n",
       "3                             acid reflux   \n",
       "4                            fibromyalgia   \n",
       "\n",
       "                                      benefitsReview  \\\n",
       "0  slowed the progression of left ventricular dys...   \n",
       "1  Although this type of birth control has more c...   \n",
       "2  I was used to having cramps so badly that they...   \n",
       "3  The acid reflux went away for a few months aft...   \n",
       "4  I think that the Lyrica was starting to help w...   \n",
       "\n",
       "                                   sideEffectsReview  \\\n",
       "0  cough, hypotension , proteinuria, impotence , ...   \n",
       "1  Heavy Cycle, Cramps, Hot Flashes, Fatigue, Lon...   \n",
       "2         Heavier bleeding and clotting than normal.   \n",
       "3  Constipation, dry mouth and some mild dizzines...   \n",
       "4  I felt extremely drugged and dopey.  Could not...   \n",
       "\n",
       "                                      commentsReview rating  \\\n",
       "0  monitor blood pressure , weight and asses for ...    low   \n",
       "1  I Hate This Birth Control, I Would Not Suggest...    low   \n",
       "2  I took 2 pills at the onset of my menstrual cr...   high   \n",
       "3  I was given Prilosec prescription at a dose of...    low   \n",
       "4                                          See above    low   \n",
       "\n",
       "                                               final  \n",
       "0  Highly Effective Mild Side Effects management ...  \n",
       "1  Highly Effective Severe Side Effects birth pre...  \n",
       "2  Highly Effective No Side Effects menstrual cra...  \n",
       "3  Marginally Effective Mild Side Effects acid re...  \n",
       "4  Marginally Effective Severe Side Effects fibro...  "
      ]
     },
     "execution_count": 17,
     "metadata": {},
     "output_type": "execute_result"
    }
   ],
   "source": [
    "raw_train.head()"
   ]
  },
  {
   "cell_type": "code",
   "execution_count": 18,
   "metadata": {},
   "outputs": [
    {
     "data": {
      "text/plain": [
       "Name                 object\n",
       "effectiveness        object\n",
       "sideEffects          object\n",
       "condition            object\n",
       "benefitsReview       object\n",
       "sideEffectsReview    object\n",
       "commentsReview       object\n",
       "rating               object\n",
       "final                object\n",
       "dtype: object"
      ]
     },
     "execution_count": 18,
     "metadata": {},
     "output_type": "execute_result"
    }
   ],
   "source": [
    "raw_train.dtypes"
   ]
  },
  {
   "cell_type": "code",
   "execution_count": 19,
   "metadata": {},
   "outputs": [
    {
     "data": {
      "text/plain": [
       "'Highly Effective Mild Side Effects management of congestive heart failure slowed the progression of left ventricular dysfunction into overt heart failure \\r\\r\\nalone or with other agents in the managment of hypertension \\r\\r\\nmangagement of congestive heart failur cough, hypotension , proteinuria, impotence , renal failure , angina pectoris , tachycardia , eosinophilic pneumonitis, tastes disturbances , anusease anorecia , weakness fatigue insominca weakness monitor blood pressure , weight and asses for resolution of fluid enalapril'"
      ]
     },
     "execution_count": 19,
     "metadata": {},
     "output_type": "execute_result"
    }
   ],
   "source": [
    "raw_train[\"final\"][0]"
   ]
  },
  {
   "cell_type": "code",
   "execution_count": 20,
   "metadata": {},
   "outputs": [
    {
     "data": {
      "text/plain": [
       "'Considerably Effective Mild Side Effects sinus infection The antibiotic may have destroyed bacteria causing my sinus infection.  But it may also have been caused by a virus, so its hard to say. Some back pain, some nauseau. Took the antibiotics for 14 days. Sinus infection was gone after the 6th day. biaxin'"
      ]
     },
     "execution_count": 20,
     "metadata": {},
     "output_type": "execute_result"
    }
   ],
   "source": [
    "raw_test[\"final\"][0]"
   ]
  },
  {
   "cell_type": "code",
   "execution_count": 21,
   "metadata": {},
   "outputs": [],
   "source": [
    "train_final = raw_train[[\"final\",\"rating\"]]"
   ]
  },
  {
   "cell_type": "code",
   "execution_count": 22,
   "metadata": {},
   "outputs": [
    {
     "data": {
      "text/html": [
       "<div>\n",
       "<style scoped>\n",
       "    .dataframe tbody tr th:only-of-type {\n",
       "        vertical-align: middle;\n",
       "    }\n",
       "\n",
       "    .dataframe tbody tr th {\n",
       "        vertical-align: top;\n",
       "    }\n",
       "\n",
       "    .dataframe thead th {\n",
       "        text-align: right;\n",
       "    }\n",
       "</style>\n",
       "<table border=\"1\" class=\"dataframe\">\n",
       "  <thead>\n",
       "    <tr style=\"text-align: right;\">\n",
       "      <th></th>\n",
       "      <th>final</th>\n",
       "      <th>rating</th>\n",
       "    </tr>\n",
       "  </thead>\n",
       "  <tbody>\n",
       "    <tr>\n",
       "      <th>0</th>\n",
       "      <td>Highly Effective Mild Side Effects management ...</td>\n",
       "      <td>low</td>\n",
       "    </tr>\n",
       "    <tr>\n",
       "      <th>1</th>\n",
       "      <td>Highly Effective Severe Side Effects birth pre...</td>\n",
       "      <td>low</td>\n",
       "    </tr>\n",
       "    <tr>\n",
       "      <th>2</th>\n",
       "      <td>Highly Effective No Side Effects menstrual cra...</td>\n",
       "      <td>high</td>\n",
       "    </tr>\n",
       "    <tr>\n",
       "      <th>3</th>\n",
       "      <td>Marginally Effective Mild Side Effects acid re...</td>\n",
       "      <td>low</td>\n",
       "    </tr>\n",
       "    <tr>\n",
       "      <th>4</th>\n",
       "      <td>Marginally Effective Severe Side Effects fibro...</td>\n",
       "      <td>low</td>\n",
       "    </tr>\n",
       "  </tbody>\n",
       "</table>\n",
       "</div>"
      ],
      "text/plain": [
       "                                               final rating\n",
       "0  Highly Effective Mild Side Effects management ...    low\n",
       "1  Highly Effective Severe Side Effects birth pre...    low\n",
       "2  Highly Effective No Side Effects menstrual cra...   high\n",
       "3  Marginally Effective Mild Side Effects acid re...    low\n",
       "4  Marginally Effective Severe Side Effects fibro...    low"
      ]
     },
     "execution_count": 22,
     "metadata": {},
     "output_type": "execute_result"
    }
   ],
   "source": [
    "train_final.head()"
   ]
  },
  {
   "cell_type": "code",
   "execution_count": 23,
   "metadata": {},
   "outputs": [],
   "source": [
    "test_final = raw_test[[\"final\",\"Rating\"]]"
   ]
  },
  {
   "cell_type": "code",
   "execution_count": 24,
   "metadata": {},
   "outputs": [
    {
     "data": {
      "text/html": [
       "<div>\n",
       "<style scoped>\n",
       "    .dataframe tbody tr th:only-of-type {\n",
       "        vertical-align: middle;\n",
       "    }\n",
       "\n",
       "    .dataframe tbody tr th {\n",
       "        vertical-align: top;\n",
       "    }\n",
       "\n",
       "    .dataframe thead th {\n",
       "        text-align: right;\n",
       "    }\n",
       "</style>\n",
       "<table border=\"1\" class=\"dataframe\">\n",
       "  <thead>\n",
       "    <tr style=\"text-align: right;\">\n",
       "      <th></th>\n",
       "      <th>final</th>\n",
       "      <th>Rating</th>\n",
       "    </tr>\n",
       "  </thead>\n",
       "  <tbody>\n",
       "    <tr>\n",
       "      <th>0</th>\n",
       "      <td>Considerably Effective Mild Side Effects sinus...</td>\n",
       "      <td>high</td>\n",
       "    </tr>\n",
       "    <tr>\n",
       "      <th>1</th>\n",
       "      <td>Highly Effective Mild Side Effects bipolar dis...</td>\n",
       "      <td>high</td>\n",
       "    </tr>\n",
       "    <tr>\n",
       "      <th>2</th>\n",
       "      <td>Moderately Effective Severe Side Effects bipol...</td>\n",
       "      <td>low</td>\n",
       "    </tr>\n",
       "    <tr>\n",
       "      <th>3</th>\n",
       "      <td>Highly Effective No Side Effects bi-polar / an...</td>\n",
       "      <td>high</td>\n",
       "    </tr>\n",
       "    <tr>\n",
       "      <th>4</th>\n",
       "      <td>Highly Effective Mild Side Effects nodular acn...</td>\n",
       "      <td>high</td>\n",
       "    </tr>\n",
       "  </tbody>\n",
       "</table>\n",
       "</div>"
      ],
      "text/plain": [
       "                                               final Rating\n",
       "0  Considerably Effective Mild Side Effects sinus...   high\n",
       "1  Highly Effective Mild Side Effects bipolar dis...   high\n",
       "2  Moderately Effective Severe Side Effects bipol...    low\n",
       "3  Highly Effective No Side Effects bi-polar / an...   high\n",
       "4  Highly Effective Mild Side Effects nodular acn...   high"
      ]
     },
     "execution_count": 24,
     "metadata": {},
     "output_type": "execute_result"
    }
   ],
   "source": [
    "test_final.head()"
   ]
  },
  {
   "cell_type": "code",
   "execution_count": 25,
   "metadata": {},
   "outputs": [],
   "source": [
    "from sklearn.preprocessing import LabelEncoder\n",
    "\n",
    "X1 = train_final.final\n",
    "Y1 = train_final.rating\n",
    "X2 = test_final.final\n",
    "Y2 = test_final.Rating\n",
    "\n",
    "le = LabelEncoder()\n",
    "Y1 = le.fit_transform(Y1)\n",
    "Y1 = Y1.reshape(-1,1)\n",
    "\n",
    "Y2 = le.fit_transform(Y2)\n",
    "Y2 = Y2.reshape(-1,1)"
   ]
  },
  {
   "cell_type": "code",
   "execution_count": 26,
   "metadata": {},
   "outputs": [
    {
     "name": "stdout",
     "output_type": "stream",
     "text": [
      "{'high': 0, 'medium': 2, 'low': 1}\n"
     ]
    }
   ],
   "source": [
    "keys = le.classes_\n",
    "values = le.transform(le.classes_)\n",
    "dictionary = dict(zip(keys, values))\n",
    "print(dictionary)"
   ]
  },
  {
   "cell_type": "markdown",
   "metadata": {},
   "source": [
    "## Splitting into train and val"
   ]
  },
  {
   "cell_type": "code",
   "execution_count": 27,
   "metadata": {},
   "outputs": [],
   "source": [
    "from sklearn.model_selection import train_test_split\n",
    "\n",
    "X = X1\n",
    "y = Y1\n",
    "\n",
    "X_test = X2\n",
    "y_test = Y2"
   ]
  },
  {
   "cell_type": "code",
   "execution_count": 28,
   "metadata": {},
   "outputs": [],
   "source": [
    "X_train, X_val, y_train, y_val = train_test_split(X, y, test_size=0.15, random_state= 123,stratify=y)"
   ]
  },
  {
   "cell_type": "code",
   "execution_count": 29,
   "metadata": {},
   "outputs": [
    {
     "name": "stdout",
     "output_type": "stream",
     "text": [
      "(2631,)\n",
      "(2631, 1)\n"
     ]
    }
   ],
   "source": [
    "print(X_train.shape)\n",
    "print(y_train.shape)"
   ]
  },
  {
   "cell_type": "code",
   "execution_count": 30,
   "metadata": {},
   "outputs": [],
   "source": [
    "X_train = X_train.reset_index(drop =True)\n",
    "X_val = X_val.reset_index(drop =True)\n",
    "X_test = X_test.reset_index(drop =True)\n",
    "\n",
    "a = pd.DataFrame(y_train)\n",
    "b = pd.DataFrame(X_train)\n",
    "c = pd.DataFrame(y_val)\n",
    "d = pd.DataFrame(X_val)\n",
    "e = pd.DataFrame(y_test)\n",
    "f = pd.DataFrame(X_test)\n",
    "\n",
    "\n",
    "train_data = pd.concat([b,a], axis=1, join_axes=[b.index])\n",
    "\n",
    "val_data = pd.concat([d,c], axis=1, join_axes=[d.index])\n",
    "\n",
    "test_data = pd.concat([f,e], axis=1, join_axes=[f.index])\n",
    "\n",
    "train_data.columns = ['review','rating']\n",
    "val_data.columns = ['review','rating']\n",
    "test_data.columns = ['review','rating']"
   ]
  },
  {
   "cell_type": "code",
   "execution_count": 31,
   "metadata": {},
   "outputs": [
    {
     "name": "stdout",
     "output_type": "stream",
     "text": [
      "                                              review  rating\n",
      "0  Considerably Effective Mild Side Effects add E...       0\n",
      "1  Highly Effective Extremely Severe Side Effects...       0\n",
      "2  Marginally Effective Severe Side Effects fibro...       1\n",
      "3  Moderately Effective Moderate Side Effects dep...       1\n",
      "4  Highly Effective No Side Effects acne Acne hea...       0\n",
      "                                              review  rating\n",
      "0  Moderately Effective Extremely Severe Side Eff...       2\n",
      "1  Marginally Effective Moderate Side Effects sci...       2\n",
      "2  Moderately Effective Extremely Severe Side Eff...       1\n",
      "3  Considerably Effective Extremely Severe Side E...       2\n",
      "4  Considerably Effective Extremely Severe Side E...       1\n",
      "                                              review  rating\n",
      "0  Considerably Effective Mild Side Effects sinus...       0\n",
      "1  Highly Effective Mild Side Effects bipolar dis...       0\n",
      "2  Moderately Effective Severe Side Effects bipol...       1\n",
      "3  Highly Effective No Side Effects bi-polar / an...       0\n",
      "4  Highly Effective Mild Side Effects nodular acn...       0\n"
     ]
    }
   ],
   "source": [
    "print(train_data.head())\n",
    "print(val_data.head())\n",
    "print(test_data.head())"
   ]
  },
  {
   "cell_type": "markdown",
   "metadata": {},
   "source": [
    "# Preprocessing the data"
   ]
  },
  {
   "cell_type": "code",
   "execution_count": 32,
   "metadata": {},
   "outputs": [
    {
     "name": "stdout",
     "output_type": "stream",
     "text": [
      "[nltk_data] Downloading package stopwords to\n",
      "[nltk_data]     /home/B49gpu5/nltk_data...\n",
      "[nltk_data]   Package stopwords is already up-to-date!\n"
     ]
    }
   ],
   "source": [
    "import nltk\n",
    "nltk.download('stopwords')\n",
    "import re\n",
    "from nltk.corpus import stopwords\n",
    "\n",
    "def review_to_words( raw_review ):\n",
    "    # Function to convert a raw review to a string of words\n",
    "    # The input is a single string (a raw movie review), and \n",
    "    # the output is a single string (a preprocessed movie review)\n",
    "    \n",
    "    # 1. Remove non-letters        \n",
    "    letters_only = re.sub(\"[^a-zA-Z]\", \" \", raw_review) \n",
    "    #\n",
    "    # 2. Convert to lower case, split into individual words\n",
    "    words = letters_only.lower().split()                             \n",
    "    #\n",
    "    # 3. In Python, searching a set is much faster than searching\n",
    "    #   a list, so convert the stop words to a set\n",
    "    stops = set(stopwords.words(\"english\"))                  \n",
    "    # \n",
    "    # 4. Remove stop words\n",
    "    meaningful_words = [w for w in words if not w in stops]   \n",
    "    #\n",
    "    # 5. Join the words back into one string separated by space, \n",
    "    # and return the result.\n",
    "    return( \" \".join( meaningful_words ))  "
   ]
  },
  {
   "cell_type": "code",
   "execution_count": 33,
   "metadata": {},
   "outputs": [],
   "source": [
    "train_num_reviews = train_data[\"review\"].size\n",
    "val_num_reviews = val_data[\"review\"].size\n",
    "test_num_reviews = test_data[\"review\"].size\n",
    "\n",
    "clean_train = []\n",
    "clean_val = []\n",
    "clean_test = []\n",
    "\n",
    "# Loop over each review; create an index i that goes from 0 to the length\n",
    "# of the movie review list \n",
    "# Call our function for each one, and add the result to the list of\n",
    "# clean reviews\n",
    "for i in range( 0, train_num_reviews ):\n",
    "    clean_train.append( review_to_words( train_data[\"review\"][i] ) )\n",
    "\n",
    "\n",
    "for i in range( 0, val_num_reviews ):\n",
    "    clean_val.append( review_to_words( val_data[\"review\"][i] ) )\n",
    "    \n",
    "\n",
    "for i in range( 0, test_num_reviews ):\n",
    "    clean_test.append( review_to_words( test_data[\"review\"][i] ) )\n"
   ]
  },
  {
   "cell_type": "code",
   "execution_count": 34,
   "metadata": {},
   "outputs": [],
   "source": [
    "p = pd.DataFrame(clean_train)\n",
    "train_data.review = p\n",
    "q = pd.DataFrame(clean_val)\n",
    "val_data.review = q\n",
    "r = pd.DataFrame(clean_test)\n",
    "test_data.review = r"
   ]
  },
  {
   "cell_type": "code",
   "execution_count": 35,
   "metadata": {},
   "outputs": [
    {
     "data": {
      "text/html": [
       "<div>\n",
       "<style scoped>\n",
       "    .dataframe tbody tr th:only-of-type {\n",
       "        vertical-align: middle;\n",
       "    }\n",
       "\n",
       "    .dataframe tbody tr th {\n",
       "        vertical-align: top;\n",
       "    }\n",
       "\n",
       "    .dataframe thead th {\n",
       "        text-align: right;\n",
       "    }\n",
       "</style>\n",
       "<table border=\"1\" class=\"dataframe\">\n",
       "  <thead>\n",
       "    <tr style=\"text-align: right;\">\n",
       "      <th></th>\n",
       "      <th>review</th>\n",
       "      <th>rating</th>\n",
       "    </tr>\n",
       "  </thead>\n",
       "  <tbody>\n",
       "    <tr>\n",
       "      <th>0</th>\n",
       "      <td>moderately effective extremely severe side eff...</td>\n",
       "      <td>2</td>\n",
       "    </tr>\n",
       "    <tr>\n",
       "      <th>1</th>\n",
       "      <td>marginally effective moderate side effects sci...</td>\n",
       "      <td>2</td>\n",
       "    </tr>\n",
       "    <tr>\n",
       "      <th>2</th>\n",
       "      <td>moderately effective extremely severe side eff...</td>\n",
       "      <td>1</td>\n",
       "    </tr>\n",
       "    <tr>\n",
       "      <th>3</th>\n",
       "      <td>considerably effective extremely severe side e...</td>\n",
       "      <td>2</td>\n",
       "    </tr>\n",
       "    <tr>\n",
       "      <th>4</th>\n",
       "      <td>considerably effective extremely severe side e...</td>\n",
       "      <td>1</td>\n",
       "    </tr>\n",
       "  </tbody>\n",
       "</table>\n",
       "</div>"
      ],
      "text/plain": [
       "                                              review  rating\n",
       "0  moderately effective extremely severe side eff...       2\n",
       "1  marginally effective moderate side effects sci...       2\n",
       "2  moderately effective extremely severe side eff...       1\n",
       "3  considerably effective extremely severe side e...       2\n",
       "4  considerably effective extremely severe side e...       1"
      ]
     },
     "execution_count": 35,
     "metadata": {},
     "output_type": "execute_result"
    }
   ],
   "source": [
    "val_data.head()"
   ]
  },
  {
   "cell_type": "code",
   "execution_count": 36,
   "metadata": {},
   "outputs": [],
   "source": [
    "train_data['rating'] = train_data.rating.astype('category')"
   ]
  },
  {
   "cell_type": "code",
   "execution_count": 37,
   "metadata": {},
   "outputs": [
    {
     "data": {
      "text/plain": [
       "review      object\n",
       "rating    category\n",
       "dtype: object"
      ]
     },
     "execution_count": 37,
     "metadata": {},
     "output_type": "execute_result"
    }
   ],
   "source": [
    "train_data.dtypes"
   ]
  },
  {
   "cell_type": "markdown",
   "metadata": {},
   "source": [
    "### Converting unstructured text to structured numeric form\n",
    "This includes:\n",
    "1. Tokenizing\n",
    "2. Converting sequence of words to sequence of word indeces\n",
    "3. Converting varing length sequences to fixed length sequences through padding"
   ]
  },
  {
   "cell_type": "code",
   "execution_count": 38,
   "metadata": {},
   "outputs": [],
   "source": [
    "# Numebr of unique words based on their frequency\n",
    "max_words = 8000 \n",
    "max_seq_len = 200         # Maximum length of words to be present in each row\n",
    "embedding_size = 100"
   ]
  },
  {
   "cell_type": "code",
   "execution_count": 39,
   "metadata": {},
   "outputs": [
    {
     "name": "stdout",
     "output_type": "stream",
     "text": [
      "Found 12385 unique tokens.\n",
      "(2631, 200)\n",
      "(465, 200)\n",
      "(1036, 200)\n"
     ]
    }
   ],
   "source": [
    "from keras.preprocessing.text import Tokenizer\n",
    "from keras.preprocessing.sequence import pad_sequences\n",
    "\n",
    "tokenizer = Tokenizer(num_words=max_words) #Tokenizer is used to tokenize text\n",
    "tokenizer.fit_on_texts(train_data.review)\n",
    "\n",
    "train_seq = tokenizer.texts_to_sequences(train_data.review)\n",
    "val_seq = tokenizer.texts_to_sequences(val_data.review)\n",
    "test_seq = tokenizer.texts_to_sequences(test_data.review)\n",
    "\n",
    "word_index = tokenizer.word_index               # dictionary containing words and their index\n",
    "# print(tokenizer.word_index)                   # print to check\n",
    "print('Found %s unique tokens.' % len(word_index)) # total words in the corpus\n",
    "train_pad = pad_sequences(train_seq, maxlen=max_seq_len) # get only the top frequent words on train\n",
    "val_pad = pad_sequences(val_seq, maxlen=max_seq_len) # get only the top frequent words on validation\n",
    "test_pad = pad_sequences(test_seq, maxlen=max_seq_len)   # get only the top frequent words on test\n",
    "\n",
    "print(train_pad.shape)\n",
    "print(val_pad.shape)\n",
    "print(test_pad.shape)"
   ]
  },
  {
   "cell_type": "code",
   "execution_count": 40,
   "metadata": {},
   "outputs": [
    {
     "name": "stdout",
     "output_type": "stream",
     "text": [
      "['high' 'low' 'medium']\n",
      "(array([0, 1, 2]), array([1508,  558,  565]))\n",
      "(array([0, 1, 2]), array([267,  98, 100]))\n",
      "(array([0, 1, 2]), array([549, 241, 246]))\n"
     ]
    }
   ],
   "source": [
    "print(le.classes_)\n",
    "print(np.unique(y_train, return_counts=True))\n",
    "print(np.unique(y_val, return_counts=True))\n",
    "print(np.unique(y_test, return_counts=True))"
   ]
  },
  {
   "cell_type": "code",
   "execution_count": 41,
   "metadata": {},
   "outputs": [
    {
     "name": "stdout",
     "output_type": "stream",
     "text": [
      "('Shape of data tensor:', (2631, 2))\n",
      "('Shape of train label tensor:', (2631, 3))\n",
      "('Shape of validation label tensor:', (465, 3))\n",
      "('Shape of test label tensor:', (1036, 3))\n"
     ]
    }
   ],
   "source": [
    "train_labels = to_categorical(np.asarray(y_train))\n",
    "val_labels = to_categorical(np.asarray(y_val))\n",
    "test_labels = to_categorical(np.asarray(y_test))\n",
    "print('Shape of data tensor:', train_data.shape)\n",
    "print('Shape of train label tensor:', train_labels.shape)\n",
    "print('Shape of validation label tensor:', val_labels.shape)\n",
    "print('Shape of test label tensor:', test_labels.shape)"
   ]
  },
  {
   "cell_type": "markdown",
   "metadata": {},
   "source": [
    "## Building lstm model"
   ]
  },
  {
   "cell_type": "code",
   "execution_count": 40,
   "metadata": {},
   "outputs": [],
   "source": [
    "model = Sequential()\n",
    "model.add(Embedding(max_words,\n",
    "                    embedding_size,\n",
    "                    input_length=max_seq_len))\n",
    "model.add(LSTM(50, return_sequences=True)) # Add an LSTM layer\n",
    "model.add(LSTM(100, return_sequences=False))\n",
    "#model.add(Dense(25, activation='relu'))\n",
    "model.add(Dense(3, activation='softmax')) # Add an ouput layer. Since classification, 3 nodes for 3 classes."
   ]
  },
  {
   "cell_type": "code",
   "execution_count": 42,
   "metadata": {},
   "outputs": [],
   "source": [
    "from keras.optimizers import sgd\n",
    "sgd = sgd(lr=0.01)"
   ]
  },
  {
   "cell_type": "code",
   "execution_count": 49,
   "metadata": {},
   "outputs": [
    {
     "name": "stdout",
     "output_type": "stream",
     "text": [
      "_________________________________________________________________\n",
      "Layer (type)                 Output Shape              Param #   \n",
      "=================================================================\n",
      "embedding_1 (Embedding)      (None, 200, 100)          800000    \n",
      "_________________________________________________________________\n",
      "lstm_1 (LSTM)                (None, 200, 50)           30200     \n",
      "_________________________________________________________________\n",
      "lstm_2 (LSTM)                (None, 100)               60400     \n",
      "_________________________________________________________________\n",
      "dense_1 (Dense)              (None, 3)                 303       \n",
      "=================================================================\n",
      "Total params: 890,903\n",
      "Trainable params: 890,903\n",
      "Non-trainable params: 0\n",
      "_________________________________________________________________\n"
     ]
    }
   ],
   "source": [
    "model.compile(loss='categorical_crossentropy',\n",
    "              optimizer='sgd',\n",
    "              metrics=['accuracy'])\n",
    "\n",
    "model.summary()"
   ]
  },
  {
   "cell_type": "code",
   "execution_count": 50,
   "metadata": {},
   "outputs": [
    {
     "name": "stdout",
     "output_type": "stream",
     "text": [
      "Train on 2631 samples, validate on 465 samples\n",
      "Epoch 1/15\n",
      "2631/2631 [==============================] - 34s 13ms/step - loss: 1.0605 - acc: 0.5675 - val_loss: 1.0278 - val_acc: 0.5742\n",
      "Epoch 2/15\n",
      "2631/2631 [==============================] - 31s 12ms/step - loss: 1.0113 - acc: 0.5732 - val_loss: 0.9979 - val_acc: 0.5742\n",
      "Epoch 3/15\n",
      "2631/2631 [==============================] - 31s 12ms/step - loss: 0.9914 - acc: 0.5732 - val_loss: 0.9838 - val_acc: 0.5742\n",
      "Epoch 4/15\n",
      "2631/2631 [==============================] - 31s 12ms/step - loss: 0.9824 - acc: 0.5732 - val_loss: 0.9793 - val_acc: 0.5742\n",
      "Epoch 5/15\n",
      "2631/2631 [==============================] - 31s 12ms/step - loss: 0.9796 - acc: 0.5732 - val_loss: 0.9779 - val_acc: 0.5742\n",
      "Epoch 6/15\n",
      "2631/2631 [==============================] - 31s 12ms/step - loss: 0.9787 - acc: 0.5732 - val_loss: 0.9775 - val_acc: 0.5742\n",
      "Epoch 7/15\n",
      "2631/2631 [==============================] - 30s 12ms/step - loss: 0.9785 - acc: 0.5732 - val_loss: 0.9774 - val_acc: 0.5742\n",
      "Epoch 8/15\n",
      "2631/2631 [==============================] - 31s 12ms/step - loss: 0.9785 - acc: 0.5732 - val_loss: 0.9773 - val_acc: 0.5742\n",
      "Epoch 9/15\n",
      "2631/2631 [==============================] - 30s 12ms/step - loss: 0.9785 - acc: 0.5732 - val_loss: 0.9772 - val_acc: 0.5742\n",
      "Epoch 10/15\n",
      "2631/2631 [==============================] - 31s 12ms/step - loss: 0.9784 - acc: 0.5732 - val_loss: 0.9772 - val_acc: 0.5742\n",
      "Epoch 11/15\n",
      "2631/2631 [==============================] - 30s 11ms/step - loss: 0.9784 - acc: 0.5732 - val_loss: 0.9771 - val_acc: 0.5742\n",
      "Epoch 12/15\n",
      "2631/2631 [==============================] - 31s 12ms/step - loss: 0.9783 - acc: 0.5732 - val_loss: 0.9771 - val_acc: 0.5742\n",
      "Epoch 13/15\n",
      "2631/2631 [==============================] - 30s 12ms/step - loss: 0.9783 - acc: 0.5732 - val_loss: 0.9771 - val_acc: 0.5742\n",
      "Epoch 14/15\n",
      "2631/2631 [==============================] - 31s 12ms/step - loss: 0.9784 - acc: 0.5732 - val_loss: 0.9771 - val_acc: 0.5742\n",
      "Epoch 15/15\n",
      "2631/2631 [==============================] - 31s 12ms/step - loss: 0.9783 - acc: 0.5732 - val_loss: 0.9771 - val_acc: 0.5742\n"
     ]
    },
    {
     "data": {
      "text/plain": [
       "<keras.callbacks.History at 0x7f74310>"
      ]
     },
     "execution_count": 50,
     "metadata": {},
     "output_type": "execute_result"
    }
   ],
   "source": [
    "model.fit(train_pad, train_labels,\n",
    "          batch_size=64,\n",
    "          epochs=15,\n",
    "          validation_data=(val_pad, val_labels))"
   ]
  },
  {
   "cell_type": "code",
   "execution_count": 70,
   "metadata": {},
   "outputs": [],
   "source": [
    "model.save('lstm_text.h5')"
   ]
  },
  {
   "cell_type": "code",
   "execution_count": 51,
   "metadata": {},
   "outputs": [
    {
     "name": "stdout",
     "output_type": "stream",
     "text": [
      "Accuracy: 52.99%\n"
     ]
    }
   ],
   "source": [
    "scores = model.evaluate(test_pad, test_labels, verbose=0)\n",
    "print(\"Accuracy: %.2f%%\" % (scores[1]*100))"
   ]
  },
  {
   "cell_type": "markdown",
   "metadata": {},
   "source": [
    "## Building model with conv layer"
   ]
  },
  {
   "cell_type": "code",
   "execution_count": 66,
   "metadata": {},
   "outputs": [],
   "source": [
    "def create_conv_model():\n",
    "    model_conv = Sequential()\n",
    "    model_conv.add(Embedding(max_words,\n",
    "                    embedding_size,\n",
    "                    input_length=max_seq_len))\n",
    "    model_conv.add(Dropout(0.2))\n",
    "    model_conv.add(Conv1D(64, 5, activation='relu'))\n",
    "    model_conv.add(MaxPooling1D(pool_size=4))\n",
    "    model_conv.add(LSTM(100))\n",
    "    model_conv.add(Dense(3, activation='softmax'))\n",
    "    model_conv.compile(loss='categorical_crossentropy', optimizer='RMSprop',    metrics=['accuracy'])\n",
    "    return model_conv\n",
    "model_conv = create_conv_model()"
   ]
  },
  {
   "cell_type": "code",
   "execution_count": 67,
   "metadata": {},
   "outputs": [
    {
     "name": "stdout",
     "output_type": "stream",
     "text": [
      "Train on 2631 samples, validate on 465 samples\n",
      "Epoch 1/3\n",
      "2631/2631 [==============================] - 6s 2ms/step - loss: 0.9724 - acc: 0.5640 - val_loss: 0.9749 - val_acc: 0.5742\n",
      "Epoch 2/3\n",
      "2631/2631 [==============================] - 4s 2ms/step - loss: 0.7765 - acc: 0.6727 - val_loss: 0.6304 - val_acc: 0.7247\n",
      "Epoch 3/3\n",
      "2631/2631 [==============================] - 5s 2ms/step - loss: 0.4907 - acc: 0.7860 - val_loss: 0.7121 - val_acc: 0.7527\n"
     ]
    },
    {
     "data": {
      "text/plain": [
       "<keras.callbacks.History at 0x30e58b10>"
      ]
     },
     "execution_count": 67,
     "metadata": {},
     "output_type": "execute_result"
    }
   ],
   "source": [
    "model_conv.fit(train_pad, train_labels,\n",
    "          batch_size=64,\n",
    "          epochs=3,\n",
    "          validation_data=(val_pad, val_labels))"
   ]
  },
  {
   "cell_type": "code",
   "execution_count": 68,
   "metadata": {},
   "outputs": [
    {
     "name": "stdout",
     "output_type": "stream",
     "text": [
      "Accuracy: 72.39%\n"
     ]
    }
   ],
   "source": [
    "scores1 = model_conv.evaluate(test_pad, test_labels, verbose=0)\n",
    "print(\"Accuracy: %.2f%%\" % (scores1[1]*100))"
   ]
  },
  {
   "cell_type": "code",
   "execution_count": 69,
   "metadata": {},
   "outputs": [],
   "source": [
    "model_conv.save('text_cnn.h5')"
   ]
  },
  {
   "cell_type": "code",
   "execution_count": 42,
   "metadata": {},
   "outputs": [],
   "source": [
    "# Numebr of unique words based on their frequency\n",
    "max_words = 8000 \n",
    "max_seq_len = 200         # Maximum length of words to be present in each row\n",
    "embedding_size = 100"
   ]
  },
  {
   "cell_type": "markdown",
   "metadata": {},
   "source": [
    "## Building a model with pre trained word embeddings"
   ]
  },
  {
   "cell_type": "code",
   "execution_count": 43,
   "metadata": {},
   "outputs": [],
   "source": [
    "import os \n",
    "os.chdir('/home/B49gpu5/B492393/Cute/drug')"
   ]
  },
  {
   "cell_type": "code",
   "execution_count": 44,
   "metadata": {},
   "outputs": [
    {
     "name": "stdout",
     "output_type": "stream",
     "text": [
      "Indexing word vectors.\n",
      "Found 400000 word vectors.\n"
     ]
    }
   ],
   "source": [
    "GLOVE_DIR = './glove6b100dtxt/'\n",
    "\n",
    "print('Indexing word vectors.')\n",
    "\n",
    "embeddings_index = {}\n",
    "f = open(os.path.join(GLOVE_DIR, 'glove.6B.100d.txt'))\n",
    "\n",
    "for line in f:\n",
    "    values = line.split()\n",
    "    word = values[0]\n",
    "    coefs = np.asarray(values[1:], dtype='float32')\n",
    "    embeddings_index[word] = coefs\n",
    "f.close()\n",
    "\n",
    "print('Found %s word vectors.' % len(embeddings_index))\n"
   ]
  },
  {
   "cell_type": "code",
   "execution_count": 45,
   "metadata": {},
   "outputs": [],
   "source": [
    "# prepare embedding matrix\n",
    "num_words = min(max_words, len(word_index))\n",
    "embedding_matrix = np.zeros((num_words, embedding_size))\n",
    "for word, i in word_index.items():\n",
    "    if i >= max_words:\n",
    "        continue\n",
    "    embedding_vector = embeddings_index.get(word)\n",
    "    if embedding_vector is not None:\n",
    "        # words not found in embedding index will be all-zeros.\n",
    "        embedding_matrix[i] = embedding_vector\n",
    "\n",
    "# load pre-trained word embeddings into an Embedding layer\n",
    "# note that we set trainable = False so as to keep the embeddings fixed\n",
    "embedding_layer = Embedding(num_words,\n",
    "                            embedding_size,\n",
    "                            weights=[embedding_matrix],\n",
    "                            input_length=max_seq_len,\n",
    "                            trainable=False)"
   ]
  },
  {
   "cell_type": "code",
   "execution_count": 46,
   "metadata": {},
   "outputs": [
    {
     "name": "stdout",
     "output_type": "stream",
     "text": [
      "Training model.\n"
     ]
    }
   ],
   "source": [
    "print('Training model.')\n",
    "\n",
    "# train a 1D convnet with global maxpooling using Glove vectors initialized\n",
    "sequence_input = Input(shape=(max_seq_len,), dtype='int32')\n",
    "embedded_sequences = embedding_layer(sequence_input)\n",
    "x = Conv1D(128, 5, activation='relu')(embedded_sequences)\n",
    "x = MaxPooling1D(5)(x)\n",
    "x = Conv1D(128, 5, activation='relu')(x)\n",
    "x = MaxPooling1D(5)(x)\n",
    "x = Conv1D(128, 5, activation='relu')(x)\n",
    "x = GlobalMaxPool1D()(x)\n",
    "x = Dense(128, activation='relu')(x)\n",
    "preds = Dense(3, activation='softmax')(x)\n",
    "\n",
    "from keras.optimizers import Adam\n",
    "adam = Adam(lr=0.001)\n",
    "model1 = Model(sequence_input, preds)\n",
    "model1.compile(loss='categorical_crossentropy',\n",
    "              optimizer=adam,\n",
    "              metrics=['acc'])\n",
    "\n"
   ]
  },
  {
   "cell_type": "code",
   "execution_count": 47,
   "metadata": {},
   "outputs": [
    {
     "name": "stdout",
     "output_type": "stream",
     "text": [
      "Train on 2631 samples, validate on 465 samples\n",
      "Epoch 1/10\n",
      "2631/2631 [==============================] - 2s 801us/step - loss: 0.9781 - acc: 0.5602 - val_loss: 0.8614 - val_acc: 0.5742\n",
      "Epoch 2/10\n",
      "2631/2631 [==============================] - 0s 66us/step - loss: 0.6725 - acc: 0.7130 - val_loss: 0.5659 - val_acc: 0.7484\n",
      "Epoch 3/10\n",
      "2631/2631 [==============================] - 0s 58us/step - loss: 0.4947 - acc: 0.8077 - val_loss: 0.5181 - val_acc: 0.7828\n",
      "Epoch 4/10\n",
      "2631/2631 [==============================] - 0s 56us/step - loss: 0.4393 - acc: 0.8202 - val_loss: 0.5344 - val_acc: 0.7699\n",
      "Epoch 5/10\n",
      "2631/2631 [==============================] - 0s 55us/step - loss: 0.3719 - acc: 0.8480 - val_loss: 0.5431 - val_acc: 0.7699\n",
      "Epoch 6/10\n",
      "2631/2631 [==============================] - 0s 57us/step - loss: 0.3268 - acc: 0.8628 - val_loss: 0.5526 - val_acc: 0.7828\n",
      "Epoch 7/10\n",
      "2631/2631 [==============================] - 0s 55us/step - loss: 0.2672 - acc: 0.9019 - val_loss: 0.5834 - val_acc: 0.7699\n",
      "Epoch 8/10\n",
      "2631/2631 [==============================] - 0s 55us/step - loss: 0.1662 - acc: 0.9521 - val_loss: 0.8644 - val_acc: 0.7419\n",
      "Epoch 9/10\n",
      "2631/2631 [==============================] - 0s 55us/step - loss: 0.1069 - acc: 0.9715 - val_loss: 0.7112 - val_acc: 0.7591\n",
      "Epoch 10/10\n",
      "2631/2631 [==============================] - 0s 58us/step - loss: 0.0473 - acc: 0.9928 - val_loss: 0.8029 - val_acc: 0.7613\n"
     ]
    }
   ],
   "source": [
    "model1_pre = model1.fit(train_pad, train_labels,\n",
    "              batch_size=128,\n",
    "              epochs=10,\n",
    "              validation_data=(val_pad, val_labels)).history"
   ]
  },
  {
   "cell_type": "code",
   "execution_count": null,
   "metadata": {},
   "outputs": [],
   "source": [
    "scores = model1_pre.evaluate(test_p, y_test, verbose=0)\n",
    "print(\"Accuracy: %.2f%%\" % (scores[1]*100))"
   ]
  }
 ],
 "metadata": {
  "kernelspec": {
   "display_name": "Python 3",
   "language": "python",
   "name": "python3"
  },
  "language_info": {
   "codemirror_mode": {
    "name": "ipython",
    "version": 3
   },
   "file_extension": ".py",
   "mimetype": "text/x-python",
   "name": "python",
   "nbconvert_exporter": "python",
   "pygments_lexer": "ipython3",
   "version": "3.6.5"
  }
 },
 "nbformat": 4,
 "nbformat_minor": 2
}
